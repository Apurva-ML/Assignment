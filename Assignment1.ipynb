{
 "cells": [
  {
   "cell_type": "code",
   "execution_count": 3,
   "metadata": {},
   "outputs": [
    {
     "name": "stdout",
     "output_type": "stream",
     "text": [
      "2030 2065 2100 2135 2170 2205 2240 2275 2310 2345 2380 2415 2450 2485 2520 2555 2590 2625 2660 2695 2730 2765 2800 2835 2870 2905 2940 2975 3010 3045 3080 3115 3150 3185\n"
     ]
    }
   ],
   "source": [
    "l=[]                           # Empty list\n",
    "for x in range(2000, 3201):\n",
    "    if (x%7==0) and (x%5==0):  # logic to check the number divisible by 7 and not by 5\n",
    "        l.append(str(x))       # inserting the result in empty list\n",
    "print (' '.join(l))            # join the list elements with space"
   ]
  },
  {
   "cell_type": "code",
   "execution_count": 4,
   "metadata": {},
   "outputs": [
    {
     "name": "stdout",
     "output_type": "stream",
     "text": [
      "Enter your first name:Apurva\n",
      "Enter your last name:Verma\n",
      "avrupA amreV\n"
     ]
    }
   ],
   "source": [
    "firstname = input(\"Enter your first name:\") \n",
    "lastname = input(\"Enter your last name:\")\n",
    "print(firstname[::-1] + \" \" + lastname[::-1])"
   ]
  },
  {
   "cell_type": "code",
   "execution_count": 5,
   "metadata": {},
   "outputs": [
    {
     "name": "stdout",
     "output_type": "stream",
     "text": [
      "905.1428571428571\n"
     ]
    }
   ],
   "source": [
    "pi = 22/7      # initialising Pi variable\n",
    "diameter = 12  # initialising diameter\n",
    "radius = diameter/2  # calculating radius\n",
    "volume = (4/3) * (pi * radius ** 3)    # calculating the volume of sphere\n",
    "print(volume)"
   ]
  },
  {
   "cell_type": "code",
   "execution_count": null,
   "metadata": {},
   "outputs": [],
   "source": []
  }
 ],
 "metadata": {
  "kernelspec": {
   "display_name": "Python 3",
   "language": "python",
   "name": "python3"
  },
  "language_info": {
   "codemirror_mode": {
    "name": "ipython",
    "version": 3
   },
   "file_extension": ".py",
   "mimetype": "text/x-python",
   "name": "python",
   "nbconvert_exporter": "python",
   "pygments_lexer": "ipython3",
   "version": "3.8.3"
  }
 },
 "nbformat": 4,
 "nbformat_minor": 4
}
